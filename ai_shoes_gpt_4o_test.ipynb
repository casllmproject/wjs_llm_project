{
  "nbformat": 4,
  "nbformat_minor": 0,
  "metadata": {
    "colab": {
      "provenance": [],
      "authorship_tag": "ABX9TyO69Csqp6LHmOx4ePaUR9jd",
      "include_colab_link": true
    },
    "kernelspec": {
      "name": "python3",
      "display_name": "Python 3"
    },
    "language_info": {
      "name": "python"
    }
  },
  "cells": [
    {
      "cell_type": "markdown",
      "metadata": {
        "id": "view-in-github",
        "colab_type": "text"
      },
      "source": [
        "<a href=\"https://colab.research.google.com/github/casllmproject/wjs_llm_project/blob/main/ai_shoes_gpt_4o_test.ipynb\" target=\"_parent\"><img src=\"https://colab.research.google.com/assets/colab-badge.svg\" alt=\"Open In Colab\"/></a>"
      ]
    },
    {
      "cell_type": "code",
      "execution_count": null,
      "metadata": {
        "colab": {
          "base_uri": "https://localhost:8080/"
        },
        "id": "yBpMZmZqIAj8",
        "outputId": "2a424794-2c45-4629-9cf7-a21f3388cf56"
      },
      "outputs": [
        {
          "output_type": "stream",
          "name": "stdout",
          "text": [
            "Mounted at /content/drive/\n"
          ]
        }
      ],
      "source": [
        "# prompt: mount goolge drive\n",
        "from google.colab import drive\n",
        "drive.mount('/content/drive/')"
      ]
    },
    {
      "cell_type": "code",
      "source": [
        "!pip install openai\n",
        "!pip install openai==0.28\n",
        "!pip install openai python-dotenv"
      ],
      "metadata": {
        "id": "oKeRVftzILe4"
      },
      "execution_count": null,
      "outputs": []
    },
    {
      "cell_type": "code",
      "source": [
        "import pandas as pd\n",
        "import openai\n",
        "import numpy as np\n",
        "import json\n",
        "import time\n",
        "import os\n",
        "import re\n",
        "import random\n",
        "from tqdm import tqdm"
      ],
      "metadata": {
        "id": "Su0qu9QeIQiG"
      },
      "execution_count": null,
      "outputs": []
    },
    {
      "cell_type": "code",
      "source": [
        "openai.api_key = open(\"/content/drive/MyDrive/CASLLM/casllm_apikey.txt\", \"r\").read().strip(\"\\n\")"
      ],
      "metadata": {
        "id": "wr2CtktkKCUa"
      },
      "execution_count": null,
      "outputs": []
    },
    {
      "cell_type": "code",
      "source": [
        "# Load the survey questions from the CSV file\n",
        "survey_df = pd.read_csv('/content/drive/MyDrive/AI_shoes/survey_questions.csv')"
      ],
      "metadata": {
        "id": "0krKBvaik2dO"
      },
      "execution_count": null,
      "outputs": []
    },
    {
      "cell_type": "code",
      "source": [
        "def gpt_take_survey(model_name, temperature=0.7, max_retries=3):\n",
        "    responses = []\n",
        "\n",
        "    # Extract the context from the CSV file\n",
        "    context = survey_df[survey_df['Variable_Name'] == 'context']['Question'].values[0]\n",
        "\n",
        "    # Track time\n",
        "    start_time = time.time()\n",
        "\n",
        "    # Loop through each survey question with a progress bar\n",
        "    for i, row in tqdm(enumerate(survey_df.iterrows()), total=len(survey_df), desc=f'Processing {model_name}'):\n",
        "        if row[1]['Variable_Name'] == 'context':\n",
        "            continue  # Skip the context row\n",
        "\n",
        "        # Prepare the prompt\n",
        "        prompt = f\"{context}\\n\\n{row[1]['Question']}\\nOptions: {row[1]['Options']}\\nChoose one of the options.\"\n",
        "\n",
        "        # Implement retry mechanism\n",
        "        for attempt in range(max_retries):\n",
        "            try:\n",
        "                # Make the API call using ChatCompletion\n",
        "                response = openai.ChatCompletion.create(\n",
        "                    model=model_name,\n",
        "                    messages=[\n",
        "                        {\"role\": \"system\", \"content\": context},\n",
        "                        {\"role\": \"user\", \"content\": prompt}\n",
        "                    ],\n",
        "                    temperature=temperature\n",
        "                )\n",
        "\n",
        "                # Extract the model's response\n",
        "                answer = response['choices'][0]['message']['content'].strip()\n",
        "\n",
        "                # Extract the number from the response using regular expression\n",
        "                match = re.search(r'\\b[1-5]\\b', answer)\n",
        "                if match:\n",
        "                    answer = match.group(0)\n",
        "                else:\n",
        "                    answer = None  # Handle cases where the model's response doesn't match any option\n",
        "\n",
        "                # Store the response\n",
        "                responses.append({\n",
        "                    \"Model\": model_name,\n",
        "                    \"Variable_Name\": row[1]['Variable_Name'],\n",
        "                    \"Question\": row[1]['Question'],\n",
        "                    \"Response\": answer\n",
        "                })\n",
        "                break  # If successful, break out of retry loop\n",
        "\n",
        "            except openai.error.APIError as e:\n",
        "                print(f\"Attempt {attempt + 1} failed with error: {e}\")\n",
        "                time.sleep(random.uniform(1, 3))  # Wait a bit before retrying\n",
        "\n",
        "        # Update progress and time estimate\n",
        "        elapsed_time = time.time() - start_time\n",
        "        questions_remaining = len(survey_df) - i - 1\n",
        "        time_per_question = elapsed_time / (i + 1)\n",
        "        time_remaining = questions_remaining * time_per_question\n",
        "        tqdm.write(f\"Estimated time remaining: {time.strftime('%H:%M:%S', time.gmtime(time_remaining))}\")\n",
        "\n",
        "    # Convert the responses to a DataFrame and save to CSV in the specified folder\n",
        "    gpt_df = pd.DataFrame(responses)\n",
        "    output_path = f'/content/drive/MyDrive/AI_shoes/{model_name}_responses.csv'\n",
        "    gpt_df.to_csv(output_path, index=False)\n",
        "\n",
        "    print(f\"Responses from {model_name} saved to {output_path}.\")\n",
        "\n",
        "# Example: Run the survey with GPT-4o-mini, GPT-4o\n",
        "models = ['gpt-4o-2024-08-06']\n",
        "for model in models:\n",
        "    gpt_take_survey(model)"
      ],
      "metadata": {
        "id": "588Lebl-NiYO"
      },
      "execution_count": null,
      "outputs": []
    },
    {
      "cell_type": "code",
      "source": [
        "gpt4o_flag = pd.read_csv(\"/content/drive/MyDrive/AI_shoes/gpt-4o-2024-08-06_responses.csv\", encoding='utf-8')\n",
        "print(gpt4o_flag)"
      ],
      "metadata": {
        "colab": {
          "base_uri": "https://localhost:8080/"
        },
        "id": "vRUwHjueOA2E",
        "outputId": "62f14768-01ef-40da-8f4e-a1ecdca9c4df"
      },
      "execution_count": null,
      "outputs": [
        {
          "output_type": "stream",
          "name": "stdout",
          "text": [
            "                Model Variable_Name  \\\n",
            "0   gpt-4o-2024-08-06        role_A   \n",
            "1   gpt-4o-2024-08-06        role_B   \n",
            "2   gpt-4o-2024-08-06        role_C   \n",
            "3   gpt-4o-2024-08-06        role_D   \n",
            "4   gpt-4o-2024-08-06        role_E   \n",
            "5   gpt-4o-2024-08-06        role_F   \n",
            "6   gpt-4o-2024-08-06        role_G   \n",
            "7   gpt-4o-2024-08-06        role_H   \n",
            "8   gpt-4o-2024-08-06        role_I   \n",
            "9   gpt-4o-2024-08-06        role_J   \n",
            "10  gpt-4o-2024-08-06        role_K   \n",
            "11  gpt-4o-2024-08-06        role_L   \n",
            "12  gpt-4o-2024-08-06        role_M   \n",
            "13  gpt-4o-2024-08-06        role_N   \n",
            "14  gpt-4o-2024-08-06        role_O   \n",
            "15  gpt-4o-2024-08-06        role_P   \n",
            "16  gpt-4o-2024-08-06        role_Q   \n",
            "17  gpt-4o-2024-08-06        role_R   \n",
            "18  gpt-4o-2024-08-06        role_S   \n",
            "19  gpt-4o-2024-08-06        role_T   \n",
            "20  gpt-4o-2024-08-06        role_U   \n",
            "21  gpt-4o-2024-08-06        role_X   \n",
            "22  gpt-4o-2024-08-06        role_Y   \n",
            "23  gpt-4o-2024-08-06        role_V   \n",
            "24  gpt-4o-2024-08-06      ethic1_A   \n",
            "25  gpt-4o-2024-08-06      ethic1_B   \n",
            "26  gpt-4o-2024-08-06      ethic1_C   \n",
            "27  gpt-4o-2024-08-06      ethic1_D   \n",
            "28  gpt-4o-2024-08-06      epist1_A   \n",
            "29  gpt-4o-2024-08-06      epist1_B   \n",
            "30  gpt-4o-2024-08-06      epist1_C   \n",
            "31  gpt-4o-2024-08-06      epist1_D   \n",
            "32  gpt-4o-2024-08-06      epist1_E   \n",
            "33  gpt-4o-2024-08-06      epist2_A   \n",
            "34  gpt-4o-2024-08-06      epist2_B   \n",
            "35  gpt-4o-2024-08-06      epist2_C   \n",
            "36  gpt-4o-2024-08-06      epist2_D   \n",
            "37  gpt-4o-2024-08-06      epist2_E   \n",
            "38  gpt-4o-2024-08-06      epist2_F   \n",
            "\n",
            "                                             Question  Response  \n",
            "0   Please tell me how important it is to 'Be a de...         4  \n",
            "1   Please tell me how important it is to 'Monitor...         5  \n",
            "2   Please tell me how important it is to 'Shine a...         5  \n",
            "3   Please tell me how important it is to 'Motivat...         4  \n",
            "4   Please tell me how important it is to 'Provide...         5  \n",
            "5   Please tell me how important it is to 'Let peo...         5  \n",
            "6   Please tell me how important it is to 'Provide...         5  \n",
            "7   Please tell me how important it is to 'Advocat...         4  \n",
            "8   Please tell me how important it is to 'Influen...         3  \n",
            "9   Please tell me how important it is to 'Set the...         4  \n",
            "10  Please tell me how important it is to 'Promote...         5  \n",
            "11  Please tell me how important it is to 'Educate...         5  \n",
            "12  Please tell me how important it is to 'Point t...         5  \n",
            "13  Please tell me how important it is to 'Speak o...         5  \n",
            "14  Please tell me how important it is to 'Support...         4  \n",
            "15  Please tell me how important it is to 'Support...         1  \n",
            "16  Please tell me how important it is to 'Convey ...         2  \n",
            "17  Please tell me how important it is to 'Provide...         3  \n",
            "18  Please tell me how important it is to 'Provide...         3  \n",
            "19  Please tell me how important it is to 'Provide...         4  \n",
            "20  Please tell me how important it is to 'Tell st...         4  \n",
            "21  Please tell me how important it is to 'Support...         5  \n",
            "22  Please tell me how important it is to 'Counter...         5  \n",
            "23  Please tell me how important it is to 'Discuss...         5  \n",
            "24  The following statements describe different re...         3  \n",
            "25  The following statements describe different re...         4  \n",
            "26  The following statements describe different re...         4  \n",
            "27  The following statements describe different re...         2  \n",
            "28  The following statements deal with beliefs rel...         4  \n",
            "29  The following statements deal with beliefs rel...         4  \n",
            "30  The following statements deal with beliefs rel...         3  \n",
            "31  The following statements deal with beliefs rel...         2  \n",
            "32  The following statements deal with beliefs rel...         4  \n",
            "33  The following statements deal with beliefs rel...         3  \n",
            "34  The following statements deal with beliefs rel...         2  \n",
            "35  The following statements deal with beliefs rel...         4  \n",
            "36  The following statements deal with beliefs rel...         4  \n",
            "37  The following statements deal with beliefs rel...         4  \n",
            "38  The following statements deal with beliefs rel...         5  \n"
          ]
        }
      ]
    }
  ]
}
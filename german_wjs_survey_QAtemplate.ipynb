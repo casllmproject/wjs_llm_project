{
  "nbformat": 4,
  "nbformat_minor": 0,
  "metadata": {
    "colab": {
      "provenance": [],
      "authorship_tag": "ABX9TyN38MkTyf5qnZ5t+8yJWQvn",
      "include_colab_link": true
    },
    "kernelspec": {
      "name": "python3",
      "display_name": "Python 3"
    },
    "language_info": {
      "name": "python"
    }
  },
  "cells": [
    {
      "cell_type": "markdown",
      "metadata": {
        "id": "view-in-github",
        "colab_type": "text"
      },
      "source": [
        "<a href=\"https://colab.research.google.com/github/casllmproject/wjs_llm_project/blob/main/german_wjs_survey_QAtemplate.ipynb\" target=\"_parent\"><img src=\"https://colab.research.google.com/assets/colab-badge.svg\" alt=\"Open In Colab\"/></a>"
      ]
    },
    {
      "cell_type": "code",
      "source": [
        "# prompt: mount goolge drive\n",
        "from google.colab import drive\n",
        "drive.mount('/content/drive')"
      ],
      "metadata": {
        "colab": {
          "base_uri": "https://localhost:8080/"
        },
        "id": "OQ8uhDoeP6ee",
        "outputId": "e326ba6d-3c70-4a44-d0e0-2b9936459ec7"
      },
      "execution_count": null,
      "outputs": [
        {
          "output_type": "stream",
          "name": "stdout",
          "text": [
            "Mounted at /content/drive\n"
          ]
        }
      ]
    },
    {
      "cell_type": "code",
      "execution_count": null,
      "metadata": {
        "colab": {
          "base_uri": "https://localhost:8080/"
        },
        "id": "KsYchNI-KPaC",
        "outputId": "8c3f1372-8b52-42b7-9a7a-35578092b087"
      },
      "outputs": [
        {
          "output_type": "stream",
          "name": "stdout",
          "text": [
            "Survey CSV file with context and variable names created successfully.\n"
          ]
        }
      ],
      "source": [
        "import pandas as pd\n",
        "\n",
        "# Define the context for the survey\n",
        "survey_context = \"Nehmen Sie an, Sie sind Journalist, und die Umfrage wurde im Jahr 2023 durchgeführt.\"\n",
        "\n",
        "# Define the survey questions with variable names and their respective answer options\n",
        "survey_data = {\n",
        "    \"Variable_Name\": [\n",
        "        \"role_A\",\n",
        "        \"role_B\",\n",
        "        \"role_C\",\n",
        "        \"role_D\",\n",
        "        \"role_E\",\n",
        "        \"role_F\",\n",
        "        \"role_G\",\n",
        "        \"role_H\",\n",
        "        \"role_I\",\n",
        "        \"role_J\",\n",
        "        \"role_K\",\n",
        "        \"role_L\",\n",
        "        \"role_M\",\n",
        "        \"role_N\",\n",
        "        \"role_O\",\n",
        "        \"role_P\",\n",
        "        \"role_Q\",\n",
        "        \"role_R\",\n",
        "        \"role_S\",\n",
        "        \"role_T\",\n",
        "        \"role_U\",\n",
        "        \"role_X\",\n",
        "        \"role_Y\",\n",
        "        \"role_V\",\n",
        "        \"ethic1_A\",\n",
        "        \"ethic1_B\",\n",
        "        \"ethic1_C\",\n",
        "        \"ethic1_D\",\n",
        "        \"epist1_A\",\n",
        "        \"epist1_B\",\n",
        "        \"epist1_C\",\n",
        "        \"epist1_D\",\n",
        "        \"epist1_E\",\n",
        "        \"epist2_A\",\n",
        "        \"epist2_B\",\n",
        "        \"epist2_C\",\n",
        "        \"epist2_D\",\n",
        "        \"epist2_E\",\n",
        "        \"epist2_F\"\n",
        "    ],\n",
        "    \"Question\": [\n",
        "        \"Bitte sagen Sie mir, wie wichtig die folgenden Dinge wie 'Unparteiisch beobachten' in Ihrer täglichen Arbeit sind.\",\n",
        "        \"Bitte sagen Sie mir, wie wichtig die folgenden Dinge wie 'Die Mächtigen kontrollieren' in Ihrer täglichen Arbeit sind.\",\n",
        "        \"Bitte sagen Sie mir, wie wichtig die folgenden Dinge wie 'Gesellschaftliche Missstände beleuchten' in Ihrer täglichen Arbeit sind.\",\n",
        "        \"Bitte sagen Sie mir, wie wichtig die folgenden Dinge wie 'Menschen zur Teilhabe am politischen Geschehen motivieren' in Ihrer täglichen Arbeit sind.\",\n",
        "        \"Bitte sagen Sie mir, wie wichtig die folgenden Dinge wie 'Aktuelles Geschehen einordnen und analysieren' in Ihrer täglichen Arbeit sind.\",\n",
        "        \"Bitte sagen Sie mir, wie wichtig die folgenden Dinge wie 'Den Menschen die Möglichkeit geben, ihre Ansichten zu artikulieren' in Ihrer täglichen Arbeit sind.\",\n",
        "        \"Bitte sagen Sie mir, wie wichtig die folgenden Dinge wie 'Informationen vermitteln, die Menschen zur Meinungsbildung befähigen' in Ihrer täglichen Arbeit sind.\",\n",
        "        \"Bitte sagen Sie mir, wie wichtig die folgenden Dinge wie 'Für sozialen Wandel eintreten' in Ihrer täglichen Arbeit sind.\",\n",
        "        \"Bitte sagen Sie mir, wie wichtig die folgenden Dinge wie 'Die öffentliche Meinung beeinflussen' in Ihrer täglichen Arbeit sind.\",\n",
        "        \"Bitte sagen Sie mir, wie wichtig die folgenden Dinge wie 'Die politische Tagesordnung bestimmen' in Ihrer täglichen Arbeit sind.\",\n",
        "        \"Bitte sagen Sie mir, wie wichtig die folgenden Dinge wie 'Frieden und Toleranz fördern' in Ihrer täglichen Arbeit sind.\",\n",
        "        \"Bitte sagen Sie mir, wie wichtig die folgenden Dinge wie 'Das Publikum bilden' in Ihrer täglichen Arbeit sind.\",\n",
        "        \"Bitte sagen Sie mir, wie wichtig die folgenden Dinge wie 'Auf mögliche Lösungen für gesellschaftliche Probleme hinweisen' in Ihrer täglichen Arbeit sind.\",\n",
        "        \"Bitte sagen Sie mir, wie wichtig die folgenden Dinge wie 'Randgruppen und Minderheiten eine Stimme geben' in Ihrer täglichen Arbeit sind.\",\n",
        "        \"Bitte sagen Sie mir, wie wichtig die folgenden Dinge wie 'Die nationale Entwicklung unterstützen' in Ihrer täglichen Arbeit sind.\",\n",
        "        \"Bitte sagen Sie mir, wie wichtig die folgenden Dinge wie 'Regierungspolitik unterstützen' in Ihrer täglichen Arbeit sind.\",\n",
        "        \"Bitte sagen Sie mir, wie wichtig die folgenden Dinge wie 'Ein positives Bild der Regierung vermitteln' in Ihrer täglichen Arbeit sind.\",\n",
        "        \"Bitte sagen Sie mir, wie wichtig die folgenden Dinge wie 'Unterhaltung und Entspannung bieten' in Ihrer täglichen Arbeit sind.\",\n",
        "        \"Bitte sagen Sie mir, wie wichtig die folgenden Dinge wie 'Inhalte anbieten, die ein möglichst großes Publikum anziehen' in Ihrer täglichen Arbeit sind.\",\n",
        "        \"Bitte sagen Sie mir, wie wichtig die folgenden Dinge wie 'Rat, Orientierung und Hilfestellung für den Alltag bieten' in Ihrer täglichen Arbeit sind.\",\n",
        "        \"Bitte sagen Sie mir, wie wichtig die folgenden Dinge wie 'Geschichten erzählen, die das Publikum emotional berühren' in Ihrer täglichen Arbeit sind.\",\n",
        "        \"Bitte sagen Sie mir, wie wichtig die folgenden Dinge wie 'Bemühungen zum Schutz der öffentlichen Gesundheit unterstützen' in Ihrer täglichen Arbeit sind.\",\n",
        "        \"Bitte sagen Sie mir, wie wichtig die folgenden Dinge wie 'Desinformation entgegenwirken' in Ihrer täglichen Arbeit sind.\",\n",
        "        \"Bitte sagen Sie mir, wie wichtig die folgenden Dinge wie 'Zukünftige Auswirkungen aktueller Ereignisse aufzeigen' in Ihrer täglichen Arbeit sind.\",\n",
        "        \"Die folgenden Aussagen beschreiben verschiedene Ansichten zu ethischen Fragen im Journalismus. Bitte sagen Sie mir, inwiefern Sie jeder Aussage zustimmen: 'Was im Journalismus ethisch vertretbar ist, sollte immer durch professionelle Standards bestimmt werden, unabhängig von der Situation und der persönlichen Einschätzung.'\",\n",
        "        \"Die folgenden Aussagen beschreiben verschiedene Ansichten zu ethischen Fragen im Journalismus. Bitte sagen Sie mir, inwiefern Sie jeder Aussage zustimmen: 'Was im Journalismus ethisch vertretbar ist, sollte durch professionelle Standards bestimmt werden, es sei denn, außergewöhnliche Umstände erfordern es, diese beiseite zu schieben.'\",\n",
        "        \"Die folgenden Aussagen beschreiben verschiedene Ansichten zu ethischen Fragen im Journalismus. Bitte sagen Sie mir, inwiefern Sie jeder Aussage zustimmen: 'Was im Journalismus ethisch vertretbar ist, hängt von der konkreten Situation ab.'\",\n",
        "        \"Die folgenden Aussagen beschreiben verschiedene Ansichten zu ethischen Fragen im Journalismus. Bitte sagen Sie mir, inwiefern Sie jeder Aussage zustimmen: 'Was im Journalismus ethisch vertretbar ist, sollte im eigenen Ermessen liegen.'\",\n",
        "        \"Die folgenden Aussagen beschreiben verschiedene Ansichten zu Objektivität und Subjektivität im Journalismus. Bitte sagen Sie mir, inwiefern Sie jeder dieser Aussagen zustimmen: 'Um Fakten zu verstehen, ist Interpretation notwendig.'\",\n",
        "        \"Die folgenden Aussagen beschreiben verschiedene Ansichten zu Objektivität und Subjektivität im Journalismus. Bitte sagen Sie mir, inwiefern Sie jeder dieser Aussagen zustimmen: 'Die Wahrheit wird zwangsläufig von den Mächtigen geprägt.'\",\n",
        "        \"Die folgenden Aussagen beschreiben verschiedene Ansichten zu Objektivität und Subjektivität im Journalismus. Bitte sagen Sie mir, inwiefern Sie jeder dieser Aussagen zustimmen: 'Es ist Journalistinnen und Journalisten nicht möglich, ihre persönlichen Überzeugungen aus der Berichterstattung herauszuhalten.'\",\n",
        "        \"Die folgenden Aussagen beschreiben verschiedene Ansichten zu Objektivität und Subjektivität im Journalismus. Bitte sagen Sie mir, inwiefern Sie jeder dieser Aussagen zustimmen: 'Es gibt nur richtig oder falsch und nichts dazwischen.'\",\n",
        "        \"Die folgenden Aussagen beschreiben verschiedene Ansichten zu Objektivität und Subjektivität im Journalismus. Bitte sagen Sie mir, inwiefern Sie jeder dieser Aussagen zustimmen: 'Es ist möglich, die objektive Realität in der Berichterstattung abzubilden.'\",\n",
        "        \"Die folgenden Aussagen beschreiben verschiedene Ansichten zu Objektivität und Subjektivität im Journalismus. Bitte sagen Sie mir, inwiefern Sie jeder dieser Aussagen zustimmen: 'Sie sollten bei der Entscheidung über wahr oder falsch ihrem Bauchgefühl vertrauen.'\",\n",
        "        \"Die folgenden Aussagen beschreiben verschiedene Ansichten zu Objektivität und Subjektivität im Journalismus. Bitte sagen Sie mir, inwiefern Sie jeder dieser Aussagen zustimmen: 'Sie sollten intuitiv wissen, wie die Geschichte am Ende aussehen wird.'\",\n",
        "        \"Die folgenden Aussagen beschreiben verschiedene Ansichten zu Objektivität und Subjektivität im Journalismus. Bitte sagen Sie mir, inwiefern Sie jeder dieser Aussagen zustimmen: 'Sie sollten die Fakten für sich selbst sprechen lassen.'\",\n",
        "        \"Die folgenden Aussagen beschreiben verschiedene Ansichten zu Objektivität und Subjektivität im Journalismus. Bitte sagen Sie mir, inwiefern Sie jeder dieser Aussagen zustimmen: 'Sie sollten Teil einer Community sein, um diese treffend beschreiben zu können.'\",\n",
        "        \"Die folgenden Aussagen beschreiben verschiedene Ansichten zu Objektivität und Subjektivität im Journalismus. Bitte sagen Sie mir, inwiefern Sie jeder dieser Aussagen zustimmen: 'Sie sollten ihren eigenen Standpunkt in ihrer Berichterstattung transparent machen.'\",\n",
        "        \"Die folgenden Aussagen beschreiben verschiedene Ansichten zu Objektivität und Subjektivität im Journalismus. Bitte sagen Sie mir, inwiefern Sie jeder dieser Aussagen zustimmen: 'Sie sollten das Publikum darauf aufmerksam machen, wenn eine Quelle Falsches behauptet.'\"\n",
        "    ],\n",
        "    \"Options\": [\n",
        "        \"1 = Unwichtig; 2 = Weniger wichtig; 3 = Teilweise wichtig; 4 = Sehr wichtig; 5 = Extrem wichtig\",\n",
        "        \"1 = Unwichtig; 2 = Weniger wichtig; 3 = Teilweise wichtig; 4 = Sehr wichtig; 5 = Extrem wichtig\",\n",
        "        \"1 = Unwichtig; 2 = Weniger wichtig; 3 = Teilweise wichtig; 4 = Sehr wichtig; 5 = Extrem wichtig\",\n",
        "        \"1 = Unwichtig; 2 = Weniger wichtig; 3 = Teilweise wichtig; 4 = Sehr wichtig; 5 = Extrem wichtig\",\n",
        "        \"1 = Unwichtig; 2 = Weniger wichtig; 3 = Teilweise wichtig; 4 = Sehr wichtig; 5 = Extrem wichtig\",\n",
        "        \"1 = Unwichtig; 2 = Weniger wichtig; 3 = Teilweise wichtig; 4 = Sehr wichtig; 5 = Extrem wichtig\",\n",
        "        \"1 = Unwichtig; 2 = Weniger wichtig; 3 = Teilweise wichtig; 4 = Sehr wichtig; 5 = Extrem wichtig\",\n",
        "        \"1 = Unwichtig; 2 = Weniger wichtig; 3 = Teilweise wichtig; 4 = Sehr wichtig; 5 = Extrem wichtig\",\n",
        "        \"1 = Unwichtig; 2 = Weniger wichtig; 3 = Teilweise wichtig; 4 = Sehr wichtig; 5 = Extrem wichtig\",\n",
        "        \"1 = Unwichtig; 2 = Weniger wichtig; 3 = Teilweise wichtig; 4 = Sehr wichtig; 5 = Extrem wichtig\",\n",
        "        \"1 = Unwichtig; 2 = Weniger wichtig; 3 = Teilweise wichtig; 4 = Sehr wichtig; 5 = Extrem wichtig\",\n",
        "        \"1 = Unwichtig; 2 = Weniger wichtig; 3 = Teilweise wichtig; 4 = Sehr wichtig; 5 = Extrem wichtig\",\n",
        "        \"1 = Unwichtig; 2 = Weniger wichtig; 3 = Teilweise wichtig; 4 = Sehr wichtig; 5 = Extrem wichtig\",\n",
        "        \"1 = Unwichtig; 2 = Weniger wichtig; 3 = Teilweise wichtig; 4 = Sehr wichtig; 5 = Extrem wichtig\",\n",
        "        \"1 = Unwichtig; 2 = Weniger wichtig; 3 = Teilweise wichtig; 4 = Sehr wichtig; 5 = Extrem wichtig\",\n",
        "        \"1 = Unwichtig; 2 = Weniger wichtig; 3 = Teilweise wichtig; 4 = Sehr wichtig; 5 = Extrem wichtig\",\n",
        "        \"1 = Unwichtig; 2 = Weniger wichtig; 3 = Teilweise wichtig; 4 = Sehr wichtig; 5 = Extrem wichtig\",\n",
        "        \"1 = Unwichtig; 2 = Weniger wichtig; 3 = Teilweise wichtig; 4 = Sehr wichtig; 5 = Extrem wichtig\",\n",
        "        \"1 = Unwichtig; 2 = Weniger wichtig; 3 = Teilweise wichtig; 4 = Sehr wichtig; 5 = Extrem wichtig\",\n",
        "        \"1 = Unwichtig; 2 = Weniger wichtig; 3 = Teilweise wichtig; 4 = Sehr wichtig; 5 = Extrem wichtig\",\n",
        "        \"1 = Unwichtig; 2 = Weniger wichtig; 3 = Teilweise wichtig; 4 = Sehr wichtig; 5 = Extrem wichtig\",\n",
        "        \"1 = Unwichtig; 2 = Weniger wichtig; 3 = Teilweise wichtig; 4 = Sehr wichtig; 5 = Extrem wichtig\",\n",
        "        \"1 = Unwichtig; 2 = Weniger wichtig; 3 = Teilweise wichtig; 4 = Sehr wichtig; 5 = Extrem wichtig\",\n",
        "        \"1 = Unwichtig; 2 = Weniger wichtig; 3 = Teilweise wichtig; 4 = Sehr wichtig; 5 = Extrem wichtig\",\n",
        "        \"1 = Stimme überhaupt nicht zu; 2 = Stimme eher nicht zu; 3 = Weder noch; 4 = Stimme eher zu; 5 = Stimme voll und ganz zu\",\n",
        "        \"1 = Stimme überhaupt nicht zu; 2 = Stimme eher nicht zu; 3 = Weder noch; 4 = Stimme eher zu; 5 = Stimme voll und ganz zu\",\n",
        "        \"1 = Stimme überhaupt nicht zu; 2 = Stimme eher nicht zu; 3 = Weder noch; 4 = Stimme eher zu; 5 = Stimme voll und ganz zu\",\n",
        "        \"1 = Stimme überhaupt nicht zu; 2 = Stimme eher nicht zu; 3 = Weder noch; 4 = Stimme eher zu; 5 = Stimme voll und ganz zu\",\n",
        "        \"1 = Stimme überhaupt nicht zu; 2 = Stimme eher nicht zu; 3 = Weder noch; 4 = Stimme eher zu; 5 = Stimme voll und ganz zu\",\n",
        "        \"1 = Stimme überhaupt nicht zu; 2 = Stimme eher nicht zu; 3 = Weder noch; 4 = Stimme eher zu; 5 = Stimme voll und ganz zu\",\n",
        "        \"1 = Stimme überhaupt nicht zu; 2 = Stimme eher nicht zu; 3 = Weder noch; 4 = Stimme eher zu; 5 = Stimme voll und ganz zu\",\n",
        "        \"1 = Stimme überhaupt nicht zu; 2 = Stimme eher nicht zu; 3 = Weder noch; 4 = Stimme eher zu; 5 = Stimme voll und ganz zu\",\n",
        "        \"1 = Stimme überhaupt nicht zu; 2 = Stimme eher nicht zu; 3 = Weder noch; 4 = Stimme eher zu; 5 = Stimme voll und ganz zu\",\n",
        "        \"1 = Stimme überhaupt nicht zu; 2 = Stimme eher nicht zu; 3 = Weder noch; 4 = Stimme eher zu; 5 = Stimme voll und ganz zu\",\n",
        "        \"1 = Stimme überhaupt nicht zu; 2 = Stimme eher nicht zu; 3 = Weder noch; 4 = Stimme eher zu; 5 = Stimme voll und ganz zu\",\n",
        "        \"1 = Stimme überhaupt nicht zu; 2 = Stimme eher nicht zu; 3 = Weder noch; 4 = Stimme eher zu; 5 = Stimme voll und ganz zu\",\n",
        "        \"1 = Stimme überhaupt nicht zu; 2 = Stimme eher nicht zu; 3 = Weder noch; 4 = Stimme eher zu; 5 = Stimme voll und ganz zu\",\n",
        "        \"1 = Stimme überhaupt nicht zu; 2 = Stimme eher nicht zu; 3 = Weder noch; 4 = Stimme eher zu; 5 = Stimme voll und ganz zu\",\n",
        "        \"1 = Stimme überhaupt nicht zu; 2 = Stimme eher nicht zu; 3 = Weder noch; 4 = Stimme eher zu; 5 = Stimme voll und ganz zu\"\n",
        "    ]\n",
        "}\n",
        "\n",
        "# Create a DataFrame\n",
        "survey_df = pd.DataFrame(survey_data)\n",
        "\n",
        "# Add the context as the first row\n",
        "survey_df.loc[-1] = ['context', survey_context, '']  # add the context row\n",
        "survey_df.index = survey_df.index + 1  # shift index\n",
        "survey_df = survey_df.sort_index()  # sort by index to put context at the top\n",
        "\n",
        "# Save to a CSV file\n",
        "survey_df.to_csv('/content/drive/MyDrive/AI_shoes/german_survey_questions.csv', index=False)\n",
        "\n",
        "print(\"Survey CSV file with context and variable names created successfully.\")"
      ]
    },
    {
      "cell_type": "code",
      "source": [],
      "metadata": {
        "id": "0jGj5bGLKXh5"
      },
      "execution_count": null,
      "outputs": []
    }
  ]
}
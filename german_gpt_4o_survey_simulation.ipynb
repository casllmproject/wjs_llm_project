{
  "nbformat": 4,
  "nbformat_minor": 0,
  "metadata": {
    "colab": {
      "provenance": [],
      "authorship_tag": "ABX9TyPWEcK/266izGKA/By01HpC",
      "include_colab_link": true
    },
    "kernelspec": {
      "name": "python3",
      "display_name": "Python 3"
    },
    "language_info": {
      "name": "python"
    }
  },
  "cells": [
    {
      "cell_type": "markdown",
      "metadata": {
        "id": "view-in-github",
        "colab_type": "text"
      },
      "source": [
        "<a href=\"https://colab.research.google.com/github/casllmproject/wjs_llm_project/blob/main/german_gpt_4o_survey_simulation.ipynb\" target=\"_parent\"><img src=\"https://colab.research.google.com/assets/colab-badge.svg\" alt=\"Open In Colab\"/></a>"
      ]
    },
    {
      "cell_type": "code",
      "execution_count": null,
      "metadata": {
        "colab": {
          "base_uri": "https://localhost:8080/"
        },
        "id": "yBpMZmZqIAj8",
        "outputId": "b8193194-b7b5-444d-fab2-82adc15126b5"
      },
      "outputs": [
        {
          "output_type": "stream",
          "name": "stdout",
          "text": [
            "Drive already mounted at /content/drive/; to attempt to forcibly remount, call drive.mount(\"/content/drive/\", force_remount=True).\n"
          ]
        }
      ],
      "source": [
        "# prompt: mount goolge drive\n",
        "from google.colab import drive\n",
        "drive.mount('/content/drive/')"
      ]
    },
    {
      "cell_type": "code",
      "source": [
        "!pip install openai\n",
        "!pip install openai==0.28\n",
        "!pip install openai python-dotenv"
      ],
      "metadata": {
        "id": "oKeRVftzILe4",
        "colab": {
          "base_uri": "https://localhost:8080/",
          "height": 1000
        },
        "outputId": "36c75ff8-18b0-430c-d4d0-6e0c9a9a9ac7"
      },
      "execution_count": null,
      "outputs": [
        {
          "output_type": "stream",
          "name": "stdout",
          "text": [
            "Requirement already satisfied: openai in /usr/local/lib/python3.12/dist-packages (1.108.0)\n",
            "Requirement already satisfied: anyio<5,>=3.5.0 in /usr/local/lib/python3.12/dist-packages (from openai) (4.10.0)\n",
            "Requirement already satisfied: distro<2,>=1.7.0 in /usr/local/lib/python3.12/dist-packages (from openai) (1.9.0)\n",
            "Requirement already satisfied: httpx<1,>=0.23.0 in /usr/local/lib/python3.12/dist-packages (from openai) (0.28.1)\n",
            "Requirement already satisfied: jiter<1,>=0.4.0 in /usr/local/lib/python3.12/dist-packages (from openai) (0.11.0)\n",
            "Requirement already satisfied: pydantic<3,>=1.9.0 in /usr/local/lib/python3.12/dist-packages (from openai) (2.11.9)\n",
            "Requirement already satisfied: sniffio in /usr/local/lib/python3.12/dist-packages (from openai) (1.3.1)\n",
            "Requirement already satisfied: tqdm>4 in /usr/local/lib/python3.12/dist-packages (from openai) (4.67.1)\n",
            "Requirement already satisfied: typing-extensions<5,>=4.11 in /usr/local/lib/python3.12/dist-packages (from openai) (4.15.0)\n",
            "Requirement already satisfied: idna>=2.8 in /usr/local/lib/python3.12/dist-packages (from anyio<5,>=3.5.0->openai) (3.10)\n",
            "Requirement already satisfied: certifi in /usr/local/lib/python3.12/dist-packages (from httpx<1,>=0.23.0->openai) (2025.8.3)\n",
            "Requirement already satisfied: httpcore==1.* in /usr/local/lib/python3.12/dist-packages (from httpx<1,>=0.23.0->openai) (1.0.9)\n",
            "Requirement already satisfied: h11>=0.16 in /usr/local/lib/python3.12/dist-packages (from httpcore==1.*->httpx<1,>=0.23.0->openai) (0.16.0)\n",
            "Requirement already satisfied: annotated-types>=0.6.0 in /usr/local/lib/python3.12/dist-packages (from pydantic<3,>=1.9.0->openai) (0.7.0)\n",
            "Requirement already satisfied: pydantic-core==2.33.2 in /usr/local/lib/python3.12/dist-packages (from pydantic<3,>=1.9.0->openai) (2.33.2)\n",
            "Requirement already satisfied: typing-inspection>=0.4.0 in /usr/local/lib/python3.12/dist-packages (from pydantic<3,>=1.9.0->openai) (0.4.1)\n",
            "Collecting openai==0.28\n",
            "  Downloading openai-0.28.0-py3-none-any.whl.metadata (13 kB)\n",
            "Requirement already satisfied: requests>=2.20 in /usr/local/lib/python3.12/dist-packages (from openai==0.28) (2.32.4)\n",
            "Requirement already satisfied: tqdm in /usr/local/lib/python3.12/dist-packages (from openai==0.28) (4.67.1)\n",
            "Requirement already satisfied: aiohttp in /usr/local/lib/python3.12/dist-packages (from openai==0.28) (3.12.15)\n",
            "Requirement already satisfied: charset_normalizer<4,>=2 in /usr/local/lib/python3.12/dist-packages (from requests>=2.20->openai==0.28) (3.4.3)\n",
            "Requirement already satisfied: idna<4,>=2.5 in /usr/local/lib/python3.12/dist-packages (from requests>=2.20->openai==0.28) (3.10)\n",
            "Requirement already satisfied: urllib3<3,>=1.21.1 in /usr/local/lib/python3.12/dist-packages (from requests>=2.20->openai==0.28) (2.5.0)\n",
            "Requirement already satisfied: certifi>=2017.4.17 in /usr/local/lib/python3.12/dist-packages (from requests>=2.20->openai==0.28) (2025.8.3)\n",
            "Requirement already satisfied: aiohappyeyeballs>=2.5.0 in /usr/local/lib/python3.12/dist-packages (from aiohttp->openai==0.28) (2.6.1)\n",
            "Requirement already satisfied: aiosignal>=1.4.0 in /usr/local/lib/python3.12/dist-packages (from aiohttp->openai==0.28) (1.4.0)\n",
            "Requirement already satisfied: attrs>=17.3.0 in /usr/local/lib/python3.12/dist-packages (from aiohttp->openai==0.28) (25.3.0)\n",
            "Requirement already satisfied: frozenlist>=1.1.1 in /usr/local/lib/python3.12/dist-packages (from aiohttp->openai==0.28) (1.7.0)\n",
            "Requirement already satisfied: multidict<7.0,>=4.5 in /usr/local/lib/python3.12/dist-packages (from aiohttp->openai==0.28) (6.6.4)\n",
            "Requirement already satisfied: propcache>=0.2.0 in /usr/local/lib/python3.12/dist-packages (from aiohttp->openai==0.28) (0.3.2)\n",
            "Requirement already satisfied: yarl<2.0,>=1.17.0 in /usr/local/lib/python3.12/dist-packages (from aiohttp->openai==0.28) (1.20.1)\n",
            "Requirement already satisfied: typing-extensions>=4.2 in /usr/local/lib/python3.12/dist-packages (from aiosignal>=1.4.0->aiohttp->openai==0.28) (4.15.0)\n",
            "Downloading openai-0.28.0-py3-none-any.whl (76 kB)\n",
            "\u001b[2K   \u001b[90m━━━━━━━━━━━━━━━━━━━━━━━━━━━━━━━━━━━━━━━━\u001b[0m \u001b[32m76.5/76.5 kB\u001b[0m \u001b[31m5.1 MB/s\u001b[0m eta \u001b[36m0:00:00\u001b[0m\n",
            "\u001b[?25hInstalling collected packages: openai\n",
            "  Attempting uninstall: openai\n",
            "    Found existing installation: openai 1.108.0\n",
            "    Uninstalling openai-1.108.0:\n",
            "      Successfully uninstalled openai-1.108.0\n",
            "Successfully installed openai-0.28.0\n"
          ]
        },
        {
          "output_type": "display_data",
          "data": {
            "application/vnd.colab-display-data+json": {
              "pip_warning": {
                "packages": [
                  "openai"
                ]
              },
              "id": "04e603a50a0f4374bda09f8ec34ffb5b"
            }
          },
          "metadata": {}
        },
        {
          "output_type": "stream",
          "name": "stdout",
          "text": [
            "Requirement already satisfied: openai in /usr/local/lib/python3.12/dist-packages (0.28.0)\n",
            "Requirement already satisfied: python-dotenv in /usr/local/lib/python3.12/dist-packages (1.1.1)\n",
            "Requirement already satisfied: requests>=2.20 in /usr/local/lib/python3.12/dist-packages (from openai) (2.32.4)\n",
            "Requirement already satisfied: tqdm in /usr/local/lib/python3.12/dist-packages (from openai) (4.67.1)\n",
            "Requirement already satisfied: aiohttp in /usr/local/lib/python3.12/dist-packages (from openai) (3.12.15)\n",
            "Requirement already satisfied: charset_normalizer<4,>=2 in /usr/local/lib/python3.12/dist-packages (from requests>=2.20->openai) (3.4.3)\n",
            "Requirement already satisfied: idna<4,>=2.5 in /usr/local/lib/python3.12/dist-packages (from requests>=2.20->openai) (3.10)\n",
            "Requirement already satisfied: urllib3<3,>=1.21.1 in /usr/local/lib/python3.12/dist-packages (from requests>=2.20->openai) (2.5.0)\n",
            "Requirement already satisfied: certifi>=2017.4.17 in /usr/local/lib/python3.12/dist-packages (from requests>=2.20->openai) (2025.8.3)\n",
            "Requirement already satisfied: aiohappyeyeballs>=2.5.0 in /usr/local/lib/python3.12/dist-packages (from aiohttp->openai) (2.6.1)\n",
            "Requirement already satisfied: aiosignal>=1.4.0 in /usr/local/lib/python3.12/dist-packages (from aiohttp->openai) (1.4.0)\n",
            "Requirement already satisfied: attrs>=17.3.0 in /usr/local/lib/python3.12/dist-packages (from aiohttp->openai) (25.3.0)\n",
            "Requirement already satisfied: frozenlist>=1.1.1 in /usr/local/lib/python3.12/dist-packages (from aiohttp->openai) (1.7.0)\n",
            "Requirement already satisfied: multidict<7.0,>=4.5 in /usr/local/lib/python3.12/dist-packages (from aiohttp->openai) (6.6.4)\n",
            "Requirement already satisfied: propcache>=0.2.0 in /usr/local/lib/python3.12/dist-packages (from aiohttp->openai) (0.3.2)\n",
            "Requirement already satisfied: yarl<2.0,>=1.17.0 in /usr/local/lib/python3.12/dist-packages (from aiohttp->openai) (1.20.1)\n",
            "Requirement already satisfied: typing-extensions>=4.2 in /usr/local/lib/python3.12/dist-packages (from aiosignal>=1.4.0->aiohttp->openai) (4.15.0)\n"
          ]
        }
      ]
    },
    {
      "cell_type": "code",
      "source": [
        "import pandas as pd\n",
        "import openai\n",
        "import numpy as np\n",
        "import json\n",
        "import time\n",
        "import os\n",
        "import re\n",
        "import random\n",
        "from tqdm import tqdm"
      ],
      "metadata": {
        "id": "Su0qu9QeIQiG"
      },
      "execution_count": null,
      "outputs": []
    },
    {
      "cell_type": "code",
      "source": [
        "openai.api_key = open(\"/content/drive/MyDrive/CASLLM/casllm_apikey.txt\", \"r\").read().strip(\"\\n\")"
      ],
      "metadata": {
        "id": "wr2CtktkKCUa"
      },
      "execution_count": null,
      "outputs": []
    },
    {
      "cell_type": "code",
      "source": [
        "# Load the survey questions from the CSV file\n",
        "survey_df = pd.read_csv('/content/drive/MyDrive/AI_shoes/german_survey_questions.csv')"
      ],
      "metadata": {
        "id": "0krKBvaik2dO"
      },
      "execution_count": null,
      "outputs": []
    },
    {
      "cell_type": "code",
      "source": [
        "def gpt_take_survey(model_name, temperature=0.7, max_retries=3):\n",
        "    responses = []\n",
        "\n",
        "    # Extract the context from the CSV file\n",
        "    context = survey_df[survey_df['Variable_Name'] == 'context']['Question'].values[0]\n",
        "\n",
        "    # Track time\n",
        "    start_time = time.time()\n",
        "\n",
        "    # Loop through each survey question with a progress bar\n",
        "    for i, row in tqdm(enumerate(survey_df.iterrows()), total=len(survey_df), desc=f'Processing {model_name}'):\n",
        "        if row[1]['Variable_Name'] == 'context':\n",
        "            continue  # Skip the context row\n",
        "\n",
        "        # Prepare the prompt\n",
        "        prompt = f\"{context}\\n\\n{row[1]['Question']}\\nOptions: {row[1]['Options']}\\nChoose one of the options.\"\n",
        "\n",
        "        # Implement retry mechanism\n",
        "        for attempt in range(max_retries):\n",
        "            try:\n",
        "                # Make the API call using ChatCompletion\n",
        "                response = openai.ChatCompletion.create(\n",
        "                    model=model_name,\n",
        "                    messages=[\n",
        "                        {\"role\": \"system\", \"content\": context},\n",
        "                        {\"role\": \"user\", \"content\": prompt}\n",
        "                    ],\n",
        "                    temperature=temperature\n",
        "                )\n",
        "\n",
        "                # Extract the model's response\n",
        "                answer = response['choices'][0]['message']['content'].strip()\n",
        "\n",
        "                # Extract the number from the response using regular expression\n",
        "                match = re.search(r'\\b[1-5]\\b', answer)\n",
        "                if match:\n",
        "                    answer = match.group(0)\n",
        "                else:\n",
        "                    answer = None  # Handle cases where the model's response doesn't match any option\n",
        "\n",
        "                # Store the response\n",
        "                responses.append({\n",
        "                    \"Model\": model_name,\n",
        "                    \"Variable_Name\": row[1]['Variable_Name'],\n",
        "                    \"Question\": row[1]['Question'],\n",
        "                    \"Response\": answer\n",
        "                })\n",
        "                break  # If successful, break out of retry loop\n",
        "\n",
        "            except openai.error.APIError as e:\n",
        "                print(f\"Attempt {attempt + 1} failed with error: {e}\")\n",
        "                time.sleep(random.uniform(1, 3))  # Wait a bit before retrying\n",
        "\n",
        "        # Update progress and time estimate\n",
        "        elapsed_time = time.time() - start_time\n",
        "        questions_remaining = len(survey_df) - i - 1\n",
        "        time_per_question = elapsed_time / (i + 1)\n",
        "        time_remaining = questions_remaining * time_per_question\n",
        "        tqdm.write(f\"Estimated time remaining: {time.strftime('%H:%M:%S', time.gmtime(time_remaining))}\")\n",
        "\n",
        "    # Convert the responses to a DataFrame and save to CSV in the specified folder\n",
        "    gpt_df = pd.DataFrame(responses)\n",
        "    output_path = f'/content/drive/MyDrive/AI_shoes/german_{model_name}_responses.csv'\n",
        "    gpt_df.to_csv(output_path, index=False)\n",
        "\n",
        "    print(f\"Responses from {model_name} saved to {output_path}.\")\n",
        "\n",
        "# Example: Run the survey with GPT-4o-mini, GPT-4o\n",
        "models = ['gpt-4o-2024-08-06']\n",
        "for model in models:\n",
        "    gpt_take_survey(model)"
      ],
      "metadata": {
        "id": "588Lebl-NiYO",
        "colab": {
          "base_uri": "https://localhost:8080/"
        },
        "outputId": "dc3c01ff-a731-479f-ab77-f756463bc368"
      },
      "execution_count": null,
      "outputs": [
        {
          "output_type": "stream",
          "name": "stderr",
          "text": [
            "Processing gpt-4o-2024-08-06:   5%|▌         | 2/40 [00:02<00:55,  1.47s/it]"
          ]
        },
        {
          "output_type": "stream",
          "name": "stdout",
          "text": [
            "Estimated time remaining: 00:00:55\n"
          ]
        },
        {
          "output_type": "stream",
          "name": "stderr",
          "text": [
            "Processing gpt-4o-2024-08-06:   8%|▊         | 3/40 [00:07<01:45,  2.86s/it]"
          ]
        },
        {
          "output_type": "stream",
          "name": "stdout",
          "text": [
            "Estimated time remaining: 00:01:35\n"
          ]
        },
        {
          "output_type": "stream",
          "name": "stderr",
          "text": [
            "Processing gpt-4o-2024-08-06:  10%|█         | 4/40 [00:10<01:45,  2.93s/it]"
          ]
        },
        {
          "output_type": "stream",
          "name": "stdout",
          "text": [
            "Estimated time remaining: 00:01:37\n"
          ]
        },
        {
          "output_type": "stream",
          "name": "stderr",
          "text": [
            "Processing gpt-4o-2024-08-06:  12%|█▎        | 5/40 [00:13<01:38,  2.81s/it]"
          ]
        },
        {
          "output_type": "stream",
          "name": "stdout",
          "text": [
            "Estimated time remaining: 00:01:33\n"
          ]
        },
        {
          "output_type": "stream",
          "name": "stderr",
          "text": [
            "Processing gpt-4o-2024-08-06:  15%|█▌        | 6/40 [00:17<01:54,  3.36s/it]"
          ]
        },
        {
          "output_type": "stream",
          "name": "stdout",
          "text": [
            "Estimated time remaining: 00:01:41\n"
          ]
        },
        {
          "output_type": "stream",
          "name": "stderr",
          "text": [
            "Processing gpt-4o-2024-08-06:  18%|█▊        | 7/40 [00:22<02:09,  3.94s/it]"
          ]
        },
        {
          "output_type": "stream",
          "name": "stdout",
          "text": [
            "Estimated time remaining: 00:01:48\n"
          ]
        },
        {
          "output_type": "stream",
          "name": "stderr",
          "text": [
            "Processing gpt-4o-2024-08-06:  20%|██        | 8/40 [00:26<02:05,  3.92s/it]"
          ]
        },
        {
          "output_type": "stream",
          "name": "stdout",
          "text": [
            "Estimated time remaining: 00:01:47\n"
          ]
        },
        {
          "output_type": "stream",
          "name": "stderr",
          "text": [
            "Processing gpt-4o-2024-08-06:  22%|██▎       | 9/40 [00:28<01:43,  3.32s/it]"
          ]
        },
        {
          "output_type": "stream",
          "name": "stdout",
          "text": [
            "Estimated time remaining: 00:01:39\n"
          ]
        },
        {
          "output_type": "stream",
          "name": "stderr",
          "text": [
            "Processing gpt-4o-2024-08-06:  25%|██▌       | 10/40 [00:32<01:40,  3.35s/it]"
          ]
        },
        {
          "output_type": "stream",
          "name": "stdout",
          "text": [
            "Estimated time remaining: 00:01:36\n"
          ]
        },
        {
          "output_type": "stream",
          "name": "stderr",
          "text": [
            "Processing gpt-4o-2024-08-06:  28%|██▊       | 11/40 [00:35<01:38,  3.39s/it]"
          ]
        },
        {
          "output_type": "stream",
          "name": "stdout",
          "text": [
            "Estimated time remaining: 00:01:34\n"
          ]
        },
        {
          "output_type": "stream",
          "name": "stderr",
          "text": [
            "Processing gpt-4o-2024-08-06:  30%|███       | 12/40 [00:40<01:49,  3.89s/it]"
          ]
        },
        {
          "output_type": "stream",
          "name": "stdout",
          "text": [
            "Estimated time remaining: 00:01:35\n"
          ]
        },
        {
          "output_type": "stream",
          "name": "stderr",
          "text": [
            "Processing gpt-4o-2024-08-06:  32%|███▎      | 13/40 [00:45<01:49,  4.04s/it]"
          ]
        },
        {
          "output_type": "stream",
          "name": "stdout",
          "text": [
            "Estimated time remaining: 00:01:33\n"
          ]
        },
        {
          "output_type": "stream",
          "name": "stderr",
          "text": [
            "Processing gpt-4o-2024-08-06:  35%|███▌      | 14/40 [00:47<01:33,  3.61s/it]"
          ]
        },
        {
          "output_type": "stream",
          "name": "stdout",
          "text": [
            "Estimated time remaining: 00:01:28\n"
          ]
        },
        {
          "output_type": "stream",
          "name": "stderr",
          "text": [
            "Processing gpt-4o-2024-08-06:  38%|███▊      | 15/40 [00:49<01:17,  3.10s/it]"
          ]
        },
        {
          "output_type": "stream",
          "name": "stdout",
          "text": [
            "Estimated time remaining: 00:01:22\n"
          ]
        },
        {
          "output_type": "stream",
          "name": "stderr",
          "text": [
            "Processing gpt-4o-2024-08-06:  40%|████      | 16/40 [00:54<01:23,  3.50s/it]"
          ]
        },
        {
          "output_type": "stream",
          "name": "stdout",
          "text": [
            "Estimated time remaining: 00:01:21\n"
          ]
        },
        {
          "output_type": "stream",
          "name": "stderr",
          "text": [
            "Processing gpt-4o-2024-08-06:  42%|████▎     | 17/40 [00:55<01:05,  2.86s/it]"
          ]
        },
        {
          "output_type": "stream",
          "name": "stdout",
          "text": [
            "Estimated time remaining: 00:01:15\n"
          ]
        },
        {
          "output_type": "stream",
          "name": "stderr",
          "text": [
            "Processing gpt-4o-2024-08-06:  45%|████▌     | 18/40 [00:59<01:10,  3.22s/it]"
          ]
        },
        {
          "output_type": "stream",
          "name": "stdout",
          "text": [
            "Estimated time remaining: 00:01:12\n"
          ]
        },
        {
          "output_type": "stream",
          "name": "stderr",
          "text": [
            "Processing gpt-4o-2024-08-06:  48%|████▊     | 19/40 [01:01<00:58,  2.77s/it]"
          ]
        },
        {
          "output_type": "stream",
          "name": "stdout",
          "text": [
            "Estimated time remaining: 00:01:07\n"
          ]
        },
        {
          "output_type": "stream",
          "name": "stderr",
          "text": [
            "Processing gpt-4o-2024-08-06:  50%|█████     | 20/40 [01:04<00:56,  2.81s/it]"
          ]
        },
        {
          "output_type": "stream",
          "name": "stdout",
          "text": [
            "Estimated time remaining: 00:01:04\n"
          ]
        },
        {
          "output_type": "stream",
          "name": "stderr",
          "text": [
            "Processing gpt-4o-2024-08-06:  52%|█████▎    | 21/40 [01:07<00:57,  3.04s/it]"
          ]
        },
        {
          "output_type": "stream",
          "name": "stdout",
          "text": [
            "Estimated time remaining: 00:01:01\n"
          ]
        },
        {
          "output_type": "stream",
          "name": "stderr",
          "text": [
            "Processing gpt-4o-2024-08-06:  55%|█████▌    | 22/40 [01:14<01:13,  4.07s/it]"
          ]
        },
        {
          "output_type": "stream",
          "name": "stdout",
          "text": [
            "Estimated time remaining: 00:01:00\n"
          ]
        },
        {
          "output_type": "stream",
          "name": "stderr",
          "text": [
            "Processing gpt-4o-2024-08-06:  57%|█████▊    | 23/40 [01:18<01:10,  4.17s/it]"
          ]
        },
        {
          "output_type": "stream",
          "name": "stdout",
          "text": [
            "Estimated time remaining: 00:00:58\n"
          ]
        },
        {
          "output_type": "stream",
          "name": "stderr",
          "text": [
            "Processing gpt-4o-2024-08-06:  60%|██████    | 24/40 [01:21<00:58,  3.63s/it]"
          ]
        },
        {
          "output_type": "stream",
          "name": "stdout",
          "text": [
            "Estimated time remaining: 00:00:54\n"
          ]
        },
        {
          "output_type": "stream",
          "name": "stderr",
          "text": [
            "Processing gpt-4o-2024-08-06:  62%|██████▎   | 25/40 [01:23<00:47,  3.14s/it]"
          ]
        },
        {
          "output_type": "stream",
          "name": "stdout",
          "text": [
            "Estimated time remaining: 00:00:49\n"
          ]
        },
        {
          "output_type": "stream",
          "name": "stderr",
          "text": [
            "Processing gpt-4o-2024-08-06:  65%|██████▌   | 26/40 [01:26<00:43,  3.12s/it]"
          ]
        },
        {
          "output_type": "stream",
          "name": "stdout",
          "text": [
            "Estimated time remaining: 00:00:46\n"
          ]
        },
        {
          "output_type": "stream",
          "name": "stderr",
          "text": [
            "Processing gpt-4o-2024-08-06:  68%|██████▊   | 27/40 [01:28<00:37,  2.92s/it]"
          ]
        },
        {
          "output_type": "stream",
          "name": "stdout",
          "text": [
            "Estimated time remaining: 00:00:42\n"
          ]
        },
        {
          "output_type": "stream",
          "name": "stderr",
          "text": [
            "Processing gpt-4o-2024-08-06:  70%|███████   | 28/40 [01:30<00:33,  2.77s/it]"
          ]
        },
        {
          "output_type": "stream",
          "name": "stdout",
          "text": [
            "Estimated time remaining: 00:00:38\n"
          ]
        },
        {
          "output_type": "stream",
          "name": "stderr",
          "text": [
            "Processing gpt-4o-2024-08-06:  72%|███████▎  | 29/40 [01:33<00:28,  2.56s/it]"
          ]
        },
        {
          "output_type": "stream",
          "name": "stdout",
          "text": [
            "Estimated time remaining: 00:00:35\n"
          ]
        },
        {
          "output_type": "stream",
          "name": "stderr",
          "text": [
            "Processing gpt-4o-2024-08-06:  75%|███████▌  | 30/40 [01:35<00:24,  2.48s/it]"
          ]
        },
        {
          "output_type": "stream",
          "name": "stdout",
          "text": [
            "Estimated time remaining: 00:00:31\n"
          ]
        },
        {
          "output_type": "stream",
          "name": "stderr",
          "text": [
            "Processing gpt-4o-2024-08-06:  78%|███████▊  | 31/40 [01:40<00:29,  3.25s/it]"
          ]
        },
        {
          "output_type": "stream",
          "name": "stdout",
          "text": [
            "Estimated time remaining: 00:00:29\n"
          ]
        },
        {
          "output_type": "stream",
          "name": "stderr",
          "text": [
            "Processing gpt-4o-2024-08-06:  80%|████████  | 32/40 [01:40<00:19,  2.43s/it]"
          ]
        },
        {
          "output_type": "stream",
          "name": "stdout",
          "text": [
            "Estimated time remaining: 00:00:25\n"
          ]
        },
        {
          "output_type": "stream",
          "name": "stderr",
          "text": [
            "Processing gpt-4o-2024-08-06:  82%|████████▎ | 33/40 [01:43<00:17,  2.57s/it]"
          ]
        },
        {
          "output_type": "stream",
          "name": "stdout",
          "text": [
            "Estimated time remaining: 00:00:22\n"
          ]
        },
        {
          "output_type": "stream",
          "name": "stderr",
          "text": [
            "Processing gpt-4o-2024-08-06:  85%|████████▌ | 34/40 [01:47<00:17,  2.86s/it]"
          ]
        },
        {
          "output_type": "stream",
          "name": "stdout",
          "text": [
            "Estimated time remaining: 00:00:18\n"
          ]
        },
        {
          "output_type": "stream",
          "name": "stderr",
          "text": [
            "Processing gpt-4o-2024-08-06:  88%|████████▊ | 35/40 [01:48<00:12,  2.50s/it]"
          ]
        },
        {
          "output_type": "stream",
          "name": "stdout",
          "text": [
            "Estimated time remaining: 00:00:15\n"
          ]
        },
        {
          "output_type": "stream",
          "name": "stderr",
          "text": [
            "Processing gpt-4o-2024-08-06:  90%|█████████ | 36/40 [01:49<00:07,  1.93s/it]"
          ]
        },
        {
          "output_type": "stream",
          "name": "stdout",
          "text": [
            "Estimated time remaining: 00:00:12\n"
          ]
        },
        {
          "output_type": "stream",
          "name": "stderr",
          "text": [
            "Processing gpt-4o-2024-08-06:  92%|█████████▎| 37/40 [01:52<00:06,  2.19s/it]"
          ]
        },
        {
          "output_type": "stream",
          "name": "stdout",
          "text": [
            "Estimated time remaining: 00:00:09\n"
          ]
        },
        {
          "output_type": "stream",
          "name": "stderr",
          "text": [
            "Processing gpt-4o-2024-08-06:  95%|█████████▌| 38/40 [01:55<00:04,  2.45s/it]"
          ]
        },
        {
          "output_type": "stream",
          "name": "stdout",
          "text": [
            "Estimated time remaining: 00:00:06\n"
          ]
        },
        {
          "output_type": "stream",
          "name": "stderr",
          "text": [
            "Processing gpt-4o-2024-08-06:  98%|█████████▊| 39/40 [01:58<00:02,  2.73s/it]"
          ]
        },
        {
          "output_type": "stream",
          "name": "stdout",
          "text": [
            "Estimated time remaining: 00:00:03\n"
          ]
        },
        {
          "output_type": "stream",
          "name": "stderr",
          "text": [
            "Processing gpt-4o-2024-08-06: 100%|██████████| 40/40 [02:01<00:00,  3.03s/it]"
          ]
        },
        {
          "output_type": "stream",
          "name": "stdout",
          "text": [
            "Estimated time remaining: 00:00:00\n",
            "Responses from gpt-4o-2024-08-06 saved to /content/drive/MyDrive/AI_shoes/german_gpt-4o-2024-08-06_responses.csv.\n"
          ]
        },
        {
          "output_type": "stream",
          "name": "stderr",
          "text": [
            "\n"
          ]
        }
      ]
    },
    {
      "cell_type": "code",
      "source": [
        "gpt4o_flag = pd.read_csv(\"/content/drive/MyDrive/AI_shoes/german_gpt-4o-2024-08-06_responses.csv\", encoding='utf-8')\n",
        "print(gpt4o_flag)"
      ],
      "metadata": {
        "id": "vRUwHjueOA2E"
      },
      "execution_count": null,
      "outputs": []
    },
    {
      "cell_type": "code",
      "source": [
        "def gpt_take_survey(model_name, temperature=0.7, max_retries=3):\n",
        "    responses = []\n",
        "\n",
        "    # Extract the context from the CSV file\n",
        "    context = survey_df[survey_df['Variable_Name'] == 'context']['Question'].values[0]\n",
        "\n",
        "    # Track time\n",
        "    start_time = time.time()\n",
        "\n",
        "    # Loop through each survey question with a progress bar\n",
        "    for i, row in tqdm(enumerate(survey_df.iterrows()), total=len(survey_df), desc=f'Processing {model_name}'):\n",
        "        if row[1]['Variable_Name'] == 'context':\n",
        "            continue  # Skip the context row\n",
        "\n",
        "        # Prepare the prompt\n",
        "        prompt = f\"{context}\\n\\n{row[1]['Question']}\\nOptions: {row[1]['Options']}\\nChoose one of the options.\"\n",
        "\n",
        "        # Implement retry mechanism\n",
        "        for attempt in range(max_retries):\n",
        "            try:\n",
        "                # Make the API call using ChatCompletion\n",
        "                response = openai.ChatCompletion.create(\n",
        "                    model=model_name,\n",
        "                    messages=[\n",
        "                        {\"role\": \"system\", \"content\": context},\n",
        "                        {\"role\": \"user\", \"content\": prompt}\n",
        "                    ],\n",
        "                    temperature=temperature\n",
        "                )\n",
        "\n",
        "                # Extract the model's response\n",
        "                answer = response['choices'][0]['message']['content'].strip()\n",
        "\n",
        "                # Extract the number from the response using regular expression\n",
        "                match = re.search(r'\\b[1-5]\\b', answer)\n",
        "                if match:\n",
        "                    answer = match.group(0)\n",
        "                else:\n",
        "                    answer = None  # Handle cases where the model's response doesn't match any option\n",
        "\n",
        "                # Store the response\n",
        "                responses.append({\n",
        "                    \"Model\": model_name,\n",
        "                    \"Variable_Name\": row[1]['Variable_Name'],\n",
        "                    \"Question\": row[1]['Question'],\n",
        "                    \"Response\": answer\n",
        "                })\n",
        "                break  # If successful, break out of retry loop\n",
        "\n",
        "            except openai.error.APIError as e:\n",
        "                print(f\"Attempt {attempt + 1} failed with error: {e}\")\n",
        "                time.sleep(random.uniform(1, 3))  # Wait a bit before retrying\n",
        "\n",
        "        # Update progress and time estimate\n",
        "        elapsed_time = time.time() - start_time\n",
        "        questions_remaining = len(survey_df) - i - 1\n",
        "        time_per_question = elapsed_time / (i + 1)\n",
        "        time_remaining = questions_remaining * time_per_question\n",
        "        tqdm.write(f\"Estimated time remaining: {time.strftime('%H:%M:%S', time.gmtime(time_remaining))}\")\n",
        "\n",
        "    # Convert the responses to a DataFrame and save to CSV in the specified folder\n",
        "    gpt_df = pd.DataFrame(responses)\n",
        "    output_path = f'/content/drive/MyDrive/AI_shoes/german_{model_name}_responses_2nd.csv'\n",
        "    gpt_df.to_csv(output_path, index=False)\n",
        "\n",
        "    print(f\"Responses from {model_name} saved to {output_path}.\")\n",
        "\n",
        "# Example: Run the survey with GPT-4o-mini, GPT-4o\n",
        "models = ['gpt-4o-2024-08-06']\n",
        "for model in models:\n",
        "    gpt_take_survey(model)"
      ],
      "metadata": {
        "colab": {
          "base_uri": "https://localhost:8080/"
        },
        "id": "0v6r64TfjZ0t",
        "outputId": "b97d2b92-2d38-4c91-a34e-7f41bd6599ca"
      },
      "execution_count": null,
      "outputs": [
        {
          "output_type": "stream",
          "name": "stderr",
          "text": [
            "Processing gpt-4o-2024-08-06:   5%|▌         | 2/40 [00:02<00:53,  1.41s/it]"
          ]
        },
        {
          "output_type": "stream",
          "name": "stdout",
          "text": [
            "Estimated time remaining: 00:00:53\n"
          ]
        },
        {
          "output_type": "stream",
          "name": "stderr",
          "text": [
            "Processing gpt-4o-2024-08-06:   8%|▊         | 3/40 [00:04<00:55,  1.50s/it]"
          ]
        },
        {
          "output_type": "stream",
          "name": "stdout",
          "text": [
            "Estimated time remaining: 00:00:54\n"
          ]
        },
        {
          "output_type": "stream",
          "name": "stderr",
          "text": [
            "Processing gpt-4o-2024-08-06:  10%|█         | 4/40 [00:07<01:20,  2.25s/it]"
          ]
        },
        {
          "output_type": "stream",
          "name": "stdout",
          "text": [
            "Estimated time remaining: 00:01:11\n"
          ]
        },
        {
          "output_type": "stream",
          "name": "stderr",
          "text": [
            "Processing gpt-4o-2024-08-06:  12%|█▎        | 5/40 [00:10<01:17,  2.21s/it]"
          ]
        },
        {
          "output_type": "stream",
          "name": "stdout",
          "text": [
            "Estimated time remaining: 00:01:10\n"
          ]
        },
        {
          "output_type": "stream",
          "name": "stderr",
          "text": [
            "Processing gpt-4o-2024-08-06:  15%|█▌        | 6/40 [00:11<01:02,  1.83s/it]"
          ]
        },
        {
          "output_type": "stream",
          "name": "stdout",
          "text": [
            "Estimated time remaining: 00:01:03\n"
          ]
        },
        {
          "output_type": "stream",
          "name": "stderr",
          "text": [
            "Processing gpt-4o-2024-08-06:  18%|█▊        | 7/40 [00:13<01:09,  2.09s/it]"
          ]
        },
        {
          "output_type": "stream",
          "name": "stdout",
          "text": [
            "Estimated time remaining: 00:01:05\n"
          ]
        },
        {
          "output_type": "stream",
          "name": "stderr",
          "text": [
            "Processing gpt-4o-2024-08-06:  20%|██        | 8/40 [00:16<01:12,  2.26s/it]"
          ]
        },
        {
          "output_type": "stream",
          "name": "stdout",
          "text": [
            "Estimated time remaining: 00:01:05\n"
          ]
        },
        {
          "output_type": "stream",
          "name": "stderr",
          "text": [
            "Processing gpt-4o-2024-08-06:  22%|██▎       | 9/40 [00:18<01:05,  2.13s/it]"
          ]
        },
        {
          "output_type": "stream",
          "name": "stdout",
          "text": [
            "Estimated time remaining: 00:01:02\n"
          ]
        },
        {
          "output_type": "stream",
          "name": "stderr",
          "text": [
            "Processing gpt-4o-2024-08-06:  25%|██▌       | 10/40 [00:22<01:26,  2.88s/it]"
          ]
        },
        {
          "output_type": "stream",
          "name": "stdout",
          "text": [
            "Estimated time remaining: 00:01:08\n"
          ]
        },
        {
          "output_type": "stream",
          "name": "stderr",
          "text": [
            "Processing gpt-4o-2024-08-06:  28%|██▊       | 11/40 [00:26<01:29,  3.07s/it]"
          ]
        },
        {
          "output_type": "stream",
          "name": "stdout",
          "text": [
            "Estimated time remaining: 00:01:09\n"
          ]
        },
        {
          "output_type": "stream",
          "name": "stderr",
          "text": [
            "Processing gpt-4o-2024-08-06:  30%|███       | 12/40 [00:28<01:17,  2.77s/it]"
          ]
        },
        {
          "output_type": "stream",
          "name": "stdout",
          "text": [
            "Estimated time remaining: 00:01:06\n"
          ]
        },
        {
          "output_type": "stream",
          "name": "stderr",
          "text": [
            "Processing gpt-4o-2024-08-06:  32%|███▎      | 13/40 [00:31<01:18,  2.92s/it]"
          ]
        },
        {
          "output_type": "stream",
          "name": "stdout",
          "text": [
            "Estimated time remaining: 00:01:05\n"
          ]
        },
        {
          "output_type": "stream",
          "name": "stderr",
          "text": [
            "Processing gpt-4o-2024-08-06:  35%|███▌      | 14/40 [00:35<01:26,  3.34s/it]"
          ]
        },
        {
          "output_type": "stream",
          "name": "stdout",
          "text": [
            "Estimated time remaining: 00:01:06\n"
          ]
        },
        {
          "output_type": "stream",
          "name": "stderr",
          "text": [
            "Processing gpt-4o-2024-08-06:  38%|███▊      | 15/40 [00:38<01:15,  3.01s/it]"
          ]
        },
        {
          "output_type": "stream",
          "name": "stdout",
          "text": [
            "Estimated time remaining: 00:01:03\n"
          ]
        },
        {
          "output_type": "stream",
          "name": "stderr",
          "text": [
            "Processing gpt-4o-2024-08-06:  40%|████      | 16/40 [00:41<01:14,  3.12s/it]"
          ]
        },
        {
          "output_type": "stream",
          "name": "stdout",
          "text": [
            "Estimated time remaining: 00:01:02\n"
          ]
        },
        {
          "output_type": "stream",
          "name": "stderr",
          "text": [
            "Processing gpt-4o-2024-08-06:  42%|████▎     | 17/40 [00:43<01:03,  2.78s/it]"
          ]
        },
        {
          "output_type": "stream",
          "name": "stdout",
          "text": [
            "Estimated time remaining: 00:00:58\n"
          ]
        },
        {
          "output_type": "stream",
          "name": "stderr",
          "text": [
            "Processing gpt-4o-2024-08-06:  45%|████▌     | 18/40 [00:47<01:06,  3.02s/it]"
          ]
        },
        {
          "output_type": "stream",
          "name": "stdout",
          "text": [
            "Estimated time remaining: 00:00:57\n"
          ]
        },
        {
          "output_type": "stream",
          "name": "stderr",
          "text": [
            "Processing gpt-4o-2024-08-06:  48%|████▊     | 19/40 [00:49<00:59,  2.83s/it]"
          ]
        },
        {
          "output_type": "stream",
          "name": "stdout",
          "text": [
            "Estimated time remaining: 00:00:54\n"
          ]
        },
        {
          "output_type": "stream",
          "name": "stderr",
          "text": [
            "Processing gpt-4o-2024-08-06:  50%|█████     | 20/40 [00:51<00:48,  2.44s/it]"
          ]
        },
        {
          "output_type": "stream",
          "name": "stdout",
          "text": [
            "Estimated time remaining: 00:00:51\n"
          ]
        },
        {
          "output_type": "stream",
          "name": "stderr",
          "text": [
            "Processing gpt-4o-2024-08-06:  52%|█████▎    | 21/40 [00:54<00:49,  2.62s/it]"
          ]
        },
        {
          "output_type": "stream",
          "name": "stdout",
          "text": [
            "Estimated time remaining: 00:00:48\n"
          ]
        },
        {
          "output_type": "stream",
          "name": "stderr",
          "text": [
            "Processing gpt-4o-2024-08-06:  55%|█████▌    | 22/40 [00:56<00:48,  2.67s/it]"
          ]
        },
        {
          "output_type": "stream",
          "name": "stdout",
          "text": [
            "Estimated time remaining: 00:00:46\n"
          ]
        },
        {
          "output_type": "stream",
          "name": "stderr",
          "text": [
            "Processing gpt-4o-2024-08-06:  57%|█████▊    | 23/40 [00:59<00:44,  2.60s/it]"
          ]
        },
        {
          "output_type": "stream",
          "name": "stdout",
          "text": [
            "Estimated time remaining: 00:00:43\n"
          ]
        },
        {
          "output_type": "stream",
          "name": "stderr",
          "text": [
            "Processing gpt-4o-2024-08-06:  60%|██████    | 24/40 [01:03<00:47,  2.99s/it]"
          ]
        },
        {
          "output_type": "stream",
          "name": "stdout",
          "text": [
            "Estimated time remaining: 00:00:42\n"
          ]
        },
        {
          "output_type": "stream",
          "name": "stderr",
          "text": [
            "Processing gpt-4o-2024-08-06:  62%|██████▎   | 25/40 [01:05<00:41,  2.78s/it]"
          ]
        },
        {
          "output_type": "stream",
          "name": "stdout",
          "text": [
            "Estimated time remaining: 00:00:39\n"
          ]
        },
        {
          "output_type": "stream",
          "name": "stderr",
          "text": [
            "Processing gpt-4o-2024-08-06:  65%|██████▌   | 26/40 [01:08<00:38,  2.77s/it]"
          ]
        },
        {
          "output_type": "stream",
          "name": "stdout",
          "text": [
            "Estimated time remaining: 00:00:36\n"
          ]
        },
        {
          "output_type": "stream",
          "name": "stderr",
          "text": [
            "Processing gpt-4o-2024-08-06:  68%|██████▊   | 27/40 [01:12<00:40,  3.13s/it]"
          ]
        },
        {
          "output_type": "stream",
          "name": "stdout",
          "text": [
            "Estimated time remaining: 00:00:34\n"
          ]
        },
        {
          "output_type": "stream",
          "name": "stderr",
          "text": [
            "Processing gpt-4o-2024-08-06:  70%|███████   | 28/40 [01:14<00:33,  2.75s/it]"
          ]
        },
        {
          "output_type": "stream",
          "name": "stdout",
          "text": [
            "Estimated time remaining: 00:00:31\n"
          ]
        },
        {
          "output_type": "stream",
          "name": "stderr",
          "text": [
            "Processing gpt-4o-2024-08-06:  72%|███████▎  | 29/40 [01:16<00:28,  2.61s/it]"
          ]
        },
        {
          "output_type": "stream",
          "name": "stdout",
          "text": [
            "Estimated time remaining: 00:00:28\n"
          ]
        },
        {
          "output_type": "stream",
          "name": "stderr",
          "text": [
            "Processing gpt-4o-2024-08-06:  75%|███████▌  | 30/40 [01:18<00:23,  2.38s/it]"
          ]
        },
        {
          "output_type": "stream",
          "name": "stdout",
          "text": [
            "Estimated time remaining: 00:00:26\n"
          ]
        },
        {
          "output_type": "stream",
          "name": "stderr",
          "text": [
            "Processing gpt-4o-2024-08-06:  78%|███████▊  | 31/40 [01:24<00:30,  3.41s/it]"
          ]
        },
        {
          "output_type": "stream",
          "name": "stdout",
          "text": [
            "Estimated time remaining: 00:00:24\n"
          ]
        },
        {
          "output_type": "stream",
          "name": "stderr",
          "text": [
            "Processing gpt-4o-2024-08-06:  80%|████████  | 32/40 [01:26<00:23,  2.98s/it]"
          ]
        },
        {
          "output_type": "stream",
          "name": "stdout",
          "text": [
            "Estimated time remaining: 00:00:21\n"
          ]
        },
        {
          "output_type": "stream",
          "name": "stderr",
          "text": [
            "Processing gpt-4o-2024-08-06:  82%|████████▎ | 33/40 [01:29<00:21,  3.04s/it]"
          ]
        },
        {
          "output_type": "stream",
          "name": "stdout",
          "text": [
            "Estimated time remaining: 00:00:18\n"
          ]
        },
        {
          "output_type": "stream",
          "name": "stderr",
          "text": [
            "Processing gpt-4o-2024-08-06:  85%|████████▌ | 34/40 [01:32<00:19,  3.18s/it]"
          ]
        },
        {
          "output_type": "stream",
          "name": "stdout",
          "text": [
            "Estimated time remaining: 00:00:16\n"
          ]
        },
        {
          "output_type": "stream",
          "name": "stderr",
          "text": [
            "Processing gpt-4o-2024-08-06:  88%|████████▊ | 35/40 [01:35<00:14,  2.94s/it]"
          ]
        },
        {
          "output_type": "stream",
          "name": "stdout",
          "text": [
            "Estimated time remaining: 00:00:13\n"
          ]
        },
        {
          "output_type": "stream",
          "name": "stderr",
          "text": [
            "Processing gpt-4o-2024-08-06:  90%|█████████ | 36/40 [01:38<00:12,  3.04s/it]"
          ]
        },
        {
          "output_type": "stream",
          "name": "stdout",
          "text": [
            "Estimated time remaining: 00:00:10\n"
          ]
        },
        {
          "output_type": "stream",
          "name": "stderr",
          "text": [
            "Processing gpt-4o-2024-08-06:  92%|█████████▎| 37/40 [01:42<00:10,  3.33s/it]"
          ]
        },
        {
          "output_type": "stream",
          "name": "stdout",
          "text": [
            "Estimated time remaining: 00:00:08\n"
          ]
        },
        {
          "output_type": "stream",
          "name": "stderr",
          "text": [
            "Processing gpt-4o-2024-08-06:  95%|█████████▌| 38/40 [01:45<00:06,  3.24s/it]"
          ]
        },
        {
          "output_type": "stream",
          "name": "stdout",
          "text": [
            "Estimated time remaining: 00:00:05\n"
          ]
        },
        {
          "output_type": "stream",
          "name": "stderr",
          "text": [
            "Processing gpt-4o-2024-08-06:  98%|█████████▊| 39/40 [01:49<00:03,  3.37s/it]"
          ]
        },
        {
          "output_type": "stream",
          "name": "stdout",
          "text": [
            "Estimated time remaining: 00:00:02\n"
          ]
        },
        {
          "output_type": "stream",
          "name": "stderr",
          "text": [
            "Processing gpt-4o-2024-08-06: 100%|██████████| 40/40 [01:50<00:00,  2.77s/it]"
          ]
        },
        {
          "output_type": "stream",
          "name": "stdout",
          "text": [
            "Estimated time remaining: 00:00:00\n",
            "Responses from gpt-4o-2024-08-06 saved to /content/drive/MyDrive/AI_shoes/german_gpt-4o-2024-08-06_responses_2nd.csv.\n"
          ]
        },
        {
          "output_type": "stream",
          "name": "stderr",
          "text": [
            "\n"
          ]
        }
      ]
    },
    {
      "cell_type": "code",
      "source": [
        "gpt4o_flag = pd.read_csv(\"/content/drive/MyDrive/AI_shoes/german_gpt-4o-2024-08-06_responses_2nd.csv\", encoding='utf-8')\n",
        "print(gpt4o_flag)"
      ],
      "metadata": {
        "id": "IjjkK_BIjccj"
      },
      "execution_count": null,
      "outputs": []
    }
  ]
}
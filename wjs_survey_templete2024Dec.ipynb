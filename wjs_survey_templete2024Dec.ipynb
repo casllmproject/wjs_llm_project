{
  "nbformat": 4,
  "nbformat_minor": 0,
  "metadata": {
    "colab": {
      "provenance": [],
      "authorship_tag": "ABX9TyMxW+EvGhPQeM+EYTk4ydP7",
      "include_colab_link": true
    },
    "kernelspec": {
      "name": "python3",
      "display_name": "Python 3"
    },
    "language_info": {
      "name": "python"
    }
  },
  "cells": [
    {
      "cell_type": "markdown",
      "metadata": {
        "id": "view-in-github",
        "colab_type": "text"
      },
      "source": [
        "<a href=\"https://colab.research.google.com/github/casllmproject/wjs_llm_project/blob/main/wjs_survey_templete2024Dec.ipynb\" target=\"_parent\"><img src=\"https://colab.research.google.com/assets/colab-badge.svg\" alt=\"Open In Colab\"/></a>"
      ]
    },
    {
      "cell_type": "code",
      "source": [
        "# prompt: mount goolge drive\n",
        "from google.colab import drive\n",
        "drive.mount('/content/drive')"
      ],
      "metadata": {
        "colab": {
          "base_uri": "https://localhost:8080/"
        },
        "id": "OQ8uhDoeP6ee",
        "outputId": "c051d768-fc41-4f4e-fd7e-87dd7cb3d956"
      },
      "execution_count": null,
      "outputs": [
        {
          "output_type": "stream",
          "name": "stdout",
          "text": [
            "Mounted at /content/drive\n"
          ]
        }
      ]
    },
    {
      "cell_type": "code",
      "execution_count": null,
      "metadata": {
        "colab": {
          "base_uri": "https://localhost:8080/"
        },
        "id": "KsYchNI-KPaC",
        "outputId": "f4adb522-4c81-4135-d808-a7b1de91051a"
      },
      "outputs": [
        {
          "output_type": "stream",
          "name": "stdout",
          "text": [
            "Survey CSV file with context and variable names created successfully.\n"
          ]
        }
      ],
      "source": [
        "import pandas as pd\n",
        "\n",
        "# Define the context for the survey\n",
        "survey_context = \"Assume you are a journalist, and the survey was conducted in 2023.\"\n",
        "\n",
        "# Define the survey questions with variable names and their respective answer options\n",
        "survey_data = {\n",
        "    \"Variable_Name\": [\n",
        "        \"role_A\",\n",
        "        \"role_B\",\n",
        "        \"role_C\",\n",
        "        \"role_D\",\n",
        "        \"role_E\",\n",
        "        \"role_F\",\n",
        "        \"role_G\",\n",
        "        \"role_H\",\n",
        "        \"role_I\",\n",
        "        \"role_J\",\n",
        "        \"role_K\",\n",
        "        \"role_L\",\n",
        "        \"role_M\",\n",
        "        \"role_N\",\n",
        "        \"role_O\",\n",
        "        \"role_P\",\n",
        "        \"role_Q\",\n",
        "        \"role_R\",\n",
        "        \"role_S\",\n",
        "        \"role_T\",\n",
        "        \"role_U\",\n",
        "        \"role_X\",\n",
        "        \"role_Y\",\n",
        "        \"role_V\",\n",
        "        \"ethic1_A\",\n",
        "        \"ethic1_B\",\n",
        "        \"ethic1_C\",\n",
        "        \"ethic1_D\",\n",
        "        \"epist1_A\",\n",
        "        \"epist1_B\",\n",
        "        \"epist1_C\",\n",
        "        \"epist1_D\",\n",
        "        \"epist1_E\",\n",
        "        \"epist2_A\",\n",
        "        \"epist2_B\",\n",
        "        \"epist2_C\",\n",
        "        \"epist2_D\",\n",
        "        \"epist2_E\",\n",
        "        \"epist2_F\"\n",
        "    ],\n",
        "    \"Question\": [\n",
        "        \"Please tell me how important it is to 'Be a detached observer' in your daily work.\",\n",
        "        \"Please tell me how important it is to 'Monitor and scrutinize those in power' in your daily work.\",\n",
        "        \"Please tell me how important it is to 'Shine a light on society’s problems' in your daily work.\",\n",
        "        \"Please tell me how important it is to 'Motivate people to participate in politics' in your daily work.\",\n",
        "        \"Please tell me how important it is to 'Provide analysis of current affairs' in your daily work.\",\n",
        "        \"Please tell me how important it is to 'Let people express their views' in your daily work.\",\n",
        "        \"Please tell me how important it is to 'Provide information people need to form political opinion' in your daily work.\",\n",
        "        \"Please tell me how important it is to 'Advocate for social change' in your daily work.\",\n",
        "        \"Please tell me how important it is to 'Influence public opinion' in your daily work.\",\n",
        "        \"Please tell me how important it is to 'Set the political agenda' in your daily work.\",\n",
        "        \"Please tell me how important it is to 'Promote peace and tolerance' in your daily work.\",\n",
        "        \"Please tell me how important it is to 'Educate the audience' in your daily work.\",\n",
        "        \"Please tell me how important it is to 'Point toward possible solutions to society’s problems' in your daily work.\",\n",
        "        \"Please tell me how important it is to 'Speak on behalf of the marginalized' in your daily work.\",\n",
        "        \"Please tell me how important it is to 'Support national development' in your daily work.\",\n",
        "        \"Please tell me how important it is to 'Support government policy' in your daily work.\",\n",
        "        \"Please tell me how important it is to 'Convey a positive image of political leaders' in your daily work.\",\n",
        "        \"Please tell me how important it is to 'Provide entertainment and relaxation' in your daily work.\",\n",
        "        \"Please tell me how important it is to 'Provide the kind of news that attracts the largest audience' in your daily work.\",\n",
        "        \"Please tell me how important it is to 'Provide advice, orientation and direction for daily life' in your daily work.\",\n",
        "        \"Please tell me how important it is to 'Tell stories that emotionally move the audience' in your daily work.\",\n",
        "        \"Please tell me how important it is to 'Support efforts to protect public health' in your daily work.\",\n",
        "        \"Please tell me how important it is to 'Counteract disinformation' in your daily work.\",\n",
        "        \"Please tell me how important it is to 'Discuss future implications of current events' in your daily work.\",\n",
        "        \"The following statements describe different responses journalists may have to ethical problems. Please tell me how strongly you agree or disagree: 'What is ethical for journalists should always be determined by professional standards unless extraordinary circumstances require disregays be determined by professional standards regardless of situation and personal judgment.'\",\n",
        "        \"The following statements describe different responses journalists may have to ethical problems. Please tell me how strongly you agree or disagree: 'What is ethical for journalists should be determined by professional standards unless extraordinary circumstances require disregarding them.'\",\n",
        "        \"The following statements describe different responses journalists may have to ethical problems. Please tell me how strongly you agree or disagree: 'What is ethical for journalists should depend on each specific situation.'\",\n",
        "        \"The following statements describe different responses journalists may have to ethical problems. Please tell me how strongly you agree or disagree: 'What is ethical for journalists should be a matter of personal judgment.'\",\n",
        "        \"The following statements deal with beliefs related to how journalists know what they know. Please tell me how strongly you agree or disagree: 'Interpretation is necessary to make sense of facts.'\",\n",
        "        \"The following statements deal with beliefs related to how journalists know what they know. Please tell me how strongly you agree or disagree: 'Truth is inevitably shaped by those in power.'\",\n",
        "        \"The following statements deal with beliefs related to how journalists know what they know. Please tell me how strongly you agree or disagree: 'It is impossible for journalists to withhold their personal beliefs from reporting.'\",\n",
        "        \"The following statements deal with beliefs related to how journalists know what they know. Please tell me how strongly you agree or disagree: 'Things are either true or false, there is no in-between.'\",\n",
        "        \"The following statements deal with beliefs related to how journalists know what they know. Please tell me how strongly you agree or disagree: 'It is possible to represent objective reality in reporting.'\",\n",
        "        \"The following statements deal with beliefs related to how journalists know what they know. Please tell me how strongly you agree or disagree: 'Journalists should trust their instincts in deciding what’s true and what’s not.'\",\n",
        "        \"The following statements deal with beliefs related to how journalists know what they know. Please tell me how strongly you agree or disagree: 'Journalists should intuitively know what the final story will be.'\",\n",
        "        \"The following statements deal with beliefs related to how journalists know what they know. Please tell me how strongly you agree or disagree: 'Journalists should let the facts speak for themselves.'\",\n",
        "        \"The following statements deal with beliefs related to how journalists know what they know. Please tell me how strongly you agree or disagree: 'Journalists should be part of a community to portray it accurately.'\",\n",
        "        \"The following statements deal with beliefs related to how journalists know what they know. Please tell me how strongly you agree or disagree: 'Journalists should make their standpoint transparent in their work.'\",\n",
        "        \"The following statements deal with beliefs related to how journalists know what they know. Please tell me how strongly you agree or disagree: 'Journalists should alert audiences when a source’s claim is untruthful.'\"\n",
        "    ],\n",
        "    \"Options\": [\n",
        "        \"1 = Not at all important; 2 = Slightly important; 3 = Moderately important; 4 = Very important; 5 = Extremely important\",\n",
        "        \"1 = Not at all important; 2 = Slightly important; 3 = Moderately important; 4 = Very important; 5 = Extremely important\",\n",
        "        \"1 = Not at all important; 2 = Slightly important; 3 = Moderately important; 4 = Very important; 5 = Extremely important\",\n",
        "        \"1 = Not at all important; 2 = Slightly important; 3 = Moderately important; 4 = Very important; 5 = Extremely important\",\n",
        "        \"1 = Not at all important; 2 = Slightly important; 3 = Moderately important; 4 = Very important; 5 = Extremely important\",\n",
        "        \"1 = Not at all important; 2 = Slightly important; 3 = Moderately important; 4 = Very important; 5 = Extremely important\",\n",
        "        \"1 = Not at all important; 2 = Slightly important; 3 = Moderately important; 4 = Very important; 5 = Extremely important\",\n",
        "        \"1 = Not at all important; 2 = Slightly important; 3 = Moderately important; 4 = Very important; 5 = Extremely important\",\n",
        "        \"1 = Not at all important; 2 = Slightly important; 3 = Moderately important; 4 = Very important; 5 = Extremely important\",\n",
        "        \"1 = Not at all important; 2 = Slightly important; 3 = Moderately important; 4 = Very important; 5 = Extremely important\",\n",
        "        \"1 = Not at all important; 2 = Slightly important; 3 = Moderately important; 4 = Very important; 5 = Extremely important\",\n",
        "        \"1 = Not at all important; 2 = Slightly important; 3 = Moderately important; 4 = Very important; 5 = Extremely important\",\n",
        "        \"1 = Not at all important; 2 = Slightly important; 3 = Moderately important; 4 = Very important; 5 = Extremely important\",\n",
        "        \"1 = Not at all important; 2 = Slightly important; 3 = Moderately important; 4 = Very important; 5 = Extremely important\",\n",
        "        \"1 = Not at all important; 2 = Slightly important; 3 = Moderately important; 4 = Very important; 5 = Extremely important\",\n",
        "        \"1 = Not at all important; 2 = Slightly important; 3 = Moderately important; 4 = Very important; 5 = Extremely important\",\n",
        "        \"1 = Not at all important; 2 = Slightly important; 3 = Moderately important; 4 = Very important; 5 = Extremely important\",\n",
        "        \"1 = Not at all important; 2 = Slightly important; 3 = Moderately important; 4 = Very important; 5 = Extremely important\",\n",
        "        \"1 = Not at all important; 2 = Slightly important; 3 = Moderately important; 4 = Very important; 5 = Extremely important\",\n",
        "        \"1 = Not at all important; 2 = Slightly important; 3 = Moderately important; 4 = Very important; 5 = Extremely important\",\n",
        "        \"1 = Not at all important; 2 = Slightly important; 3 = Moderately important; 4 = Very important; 5 = Extremely important\",\n",
        "        \"1 = Not at all important; 2 = Slightly important; 3 = Moderately important; 4 = Very important; 5 = Extremely important\",\n",
        "        \"1 = Not at all important; 2 = Slightly important; 3 = Moderately important; 4 = Very important; 5 = Extremely important\",\n",
        "        \"1 = Not at all important; 2 = Slightly important; 3 = Moderately important; 4 = Very important; 5 = Extremely important\",\n",
        "        \"1 = Strongly disagree; 2 = Disagree; 3 = Neither agree nor disagree; 4 = Agree; 5 = Strongly agree\",\n",
        "        \"1 = Strongly disagree; 2 = Disagree; 3 = Neither agree nor disagree; 4 = Agree; 5 = Strongly agree\",\n",
        "        \"1 = Strongly disagree; 2 = Disagree; 3 = Neither agree nor disagree; 4 = Agree; 5 = Strongly agree\",\n",
        "        \"1 = Strongly disagree; 2 = Disagree; 3 = Neither agree nor disagree; 4 = Agree; 5 = Strongly agree\",\n",
        "        \"1 = Strongly disagree; 2 = Disagree; 3 = Neither agree nor disagree; 4 = Agree; 5 = Strongly agree\",\n",
        "        \"1 = Strongly disagree; 2 = Disagree; 3 = Neither agree nor disagree; 4 = Agree; 5 = Strongly agree\",\n",
        "        \"1 = Strongly disagree; 2 = Disagree; 3 = Neither agree nor disagree; 4 = Agree; 5 = Strongly agree\",\n",
        "        \"1 = Strongly disagree; 2 = Disagree; 3 = Neither agree nor disagree; 4 = Agree; 5 = Strongly agree\",\n",
        "        \"1 = Strongly disagree; 2 = Disagree; 3 = Neither agree nor disagree; 4 = Agree; 5 = Strongly agree\",\n",
        "        \"1 = Strongly disagree; 2 = Disagree; 3 = Neither agree nor disagree; 4 = Agree; 5 = Strongly agree\",\n",
        "        \"1 = Strongly disagree; 2 = Disagree; 3 = Neither agree nor disagree; 4 = Agree; 5 = Strongly agree\",\n",
        "        \"1 = Strongly disagree; 2 = Disagree; 3 = Neither agree nor disagree; 4 = Agree; 5 = Strongly agree\",\n",
        "        \"1 = Strongly disagree; 2 = Disagree; 3 = Neither agree nor disagree; 4 = Agree; 5 = Strongly agree\",\n",
        "        \"1 = Strongly disagree; 2 = Disagree; 3 = Neither agree nor disagree; 4 = Agree; 5 = Strongly agree\",\n",
        "        \"1 = Strongly disagree; 2 = Disagree; 3 = Neither agree nor disagree; 4 = Agree; 5 = Strongly agree\"\n",
        "    ]\n",
        "}\n",
        "\n",
        "# Create a DataFrame\n",
        "survey_df = pd.DataFrame(survey_data)\n",
        "\n",
        "# Add the context as the first row\n",
        "survey_df.loc[-1] = ['context', survey_context, '']  # add the context row\n",
        "survey_df.index = survey_df.index + 1  # shift index\n",
        "survey_df = survey_df.sort_index()  # sort by index to put context at the top\n",
        "\n",
        "# Save to a CSV file\n",
        "survey_df.to_csv('/content/drive/MyDrive/AI_shoes/survey_questions.csv', index=False)\n",
        "\n",
        "print(\"Survey CSV file with context and variable names created successfully.\")"
      ]
    }
  ]
}